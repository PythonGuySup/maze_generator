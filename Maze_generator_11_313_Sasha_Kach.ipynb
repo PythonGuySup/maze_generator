{
  "cells": [
    {
      "cell_type": "code",
      "execution_count": null,
      "id": "5ba82531-2601-494f-bb93-5f817de31a82",
      "metadata": {
        "id": "5ba82531-2601-494f-bb93-5f817de31a82",
        "colab": {
          "base_uri": "https://localhost:8080/"
        },
        "outputId": "691f4d18-b587-4a5d-e821-257bfd44f5fe"
      },
      "outputs": [
        {
          "output_type": "stream",
          "name": "stdout",
          "text": [
            "Requirement already satisfied: matplotlib in /usr/local/lib/python3.10/dist-packages (3.7.1)\n",
            "Requirement already satisfied: contourpy>=1.0.1 in /usr/local/lib/python3.10/dist-packages (from matplotlib) (1.2.0)\n",
            "Requirement already satisfied: cycler>=0.10 in /usr/local/lib/python3.10/dist-packages (from matplotlib) (0.12.1)\n",
            "Requirement already satisfied: fonttools>=4.22.0 in /usr/local/lib/python3.10/dist-packages (from matplotlib) (4.50.0)\n",
            "Requirement already satisfied: kiwisolver>=1.0.1 in /usr/local/lib/python3.10/dist-packages (from matplotlib) (1.4.5)\n",
            "Requirement already satisfied: numpy>=1.20 in /usr/local/lib/python3.10/dist-packages (from matplotlib) (1.25.2)\n",
            "Requirement already satisfied: packaging>=20.0 in /usr/local/lib/python3.10/dist-packages (from matplotlib) (24.0)\n",
            "Requirement already satisfied: pillow>=6.2.0 in /usr/local/lib/python3.10/dist-packages (from matplotlib) (9.4.0)\n",
            "Requirement already satisfied: pyparsing>=2.3.1 in /usr/local/lib/python3.10/dist-packages (from matplotlib) (3.1.2)\n",
            "Requirement already satisfied: python-dateutil>=2.7 in /usr/local/lib/python3.10/dist-packages (from matplotlib) (2.8.2)\n",
            "Requirement already satisfied: six>=1.5 in /usr/local/lib/python3.10/dist-packages (from python-dateutil>=2.7->matplotlib) (1.16.0)\n"
          ]
        }
      ],
      "source": [
        "!pip install matplotlib"
      ]
    },
    {
      "cell_type": "code",
      "execution_count": null,
      "id": "22815830-5b83-49ce-923f-af372dcdd098",
      "metadata": {
        "id": "22815830-5b83-49ce-923f-af372dcdd098"
      },
      "outputs": [],
      "source": [
        "import matplotlib.pyplot as plt\n",
        "#from generate import generate_maze ?\n",
        "from itertools import groupby\n",
        "import random"
      ]
    },
    {
      "cell_type": "code",
      "execution_count": null,
      "id": "394aed81-a7b7-4497-8357-36cb39c5f309",
      "metadata": {
        "id": "394aed81-a7b7-4497-8357-36cb39c5f309"
      },
      "outputs": [],
      "source": [
        "from dataclasses import dataclass, field\n",
        "\n",
        "@dataclass\n",
        "class MazeCell:\n",
        "    x: int\n",
        "    y: int\n",
        "    component: int\n",
        "    is_open: bool = field(default=False)\n",
        "    walls: list = field(default_factory=list)"
      ]
    },
    {
      "cell_type": "code",
      "execution_count": null,
      "id": "b23fab15-b8d7-4a09-882f-6caf95b66c3b",
      "metadata": {
        "id": "b23fab15-b8d7-4a09-882f-6caf95b66c3b"
      },
      "outputs": [],
      "source": [
        "N = 30\n",
        "LINE_WIDTH = 1"
      ]
    },
    {
      "cell_type": "code",
      "execution_count": null,
      "id": "a7eb330f-fd7a-4dc2-a66c-8fb4bd73bc8a",
      "metadata": {
        "id": "a7eb330f-fd7a-4dc2-a66c-8fb4bd73bc8a"
      },
      "outputs": [],
      "source": [
        "\"\"\"\n",
        "\"\"\"\n",
        "maze = []\n",
        "parents  = []\n",
        "ranks = []\n",
        "used = []\n",
        "\n",
        "# Находит компоненту связности для x (корень дерева)\n",
        "# С эвристикой path_compression\n",
        "def find(x):\n",
        "    stack = []\n",
        "\n",
        "    while x != parents[x]:\n",
        "      stack.append(x)\n",
        "      x = parents[x]\n",
        "    while len(stack) != 0:\n",
        "      cell_index = stack.pop()\n",
        "      parents[cell_index] = x\n",
        "\n",
        "    return x\n",
        "\n",
        "# Объединяет два несвязанных множества в одно, соединяя их корни\n",
        "# С эвристикой union_by_rank\n",
        "def union(x, y):\n",
        "    x_root = find(x.component)\n",
        "    y_root = find(y.component)\n",
        "\n",
        "    parents[y_root] = x_root\n",
        "\n",
        "# Возвращает соседей по часовой стрелке (сверху, справа, снизу, слева)\n",
        "def find_neighbours(maze_cell):\n",
        "  x, y = maze_cell.x,  maze_cell.y\n",
        "  neighbours = []\n",
        "  if y + 1 < N:\n",
        "    neighbours.append(maze[x][y + 1])\n",
        "  if x + 1 < N:\n",
        "    neighbours.append(maze[x + 1][y])\n",
        "  if y - 1 >= 0:\n",
        "    neighbours.append(maze[x][y - 1])\n",
        "  if x - 1 >= 0:\n",
        "    neighbours.append(maze[x - 1][y])\n",
        "  return neighbours\n",
        "\n",
        "\n",
        "# Проверяет, принадлежит ли весь лабиринт одной компоненте связности (parents)\n",
        "def all_equal(iterable):\n",
        "   g = groupby(iterable)\n",
        "   return next(g, True) and not next(g, False)\n",
        "\n",
        "\n",
        "def delete_walls(cell_1, cell_2):\n",
        "  x, y = cell_2.x - cell_1.x, cell_2.y - cell_1.y\n",
        "\n",
        "  if y > 0:\n",
        "    cell_2.walls[0] = False\n",
        "    cell_1.walls[2] = False\n",
        "  elif y < 0:\n",
        "    cell_2.walls[2] = False\n",
        "    cell_1.walls[0] = False\n",
        "  elif x > 0:\n",
        "    cell_2.walls[3] = False\n",
        "    cell_1.walls[1] = False\n",
        "  elif x < 0:\n",
        "    cell_2.walls[1] = False\n",
        "    cell_1.walls[3] = False\n",
        "\n",
        "\n",
        "def generate_maze(N) -> list[list[MazeCell]]:\n",
        "    num = 0\n",
        "    for i in range(N):\n",
        "      row = []\n",
        "      for j in range(N):\n",
        "        row.append(MazeCell(i, j, num, False, [True, True, True, True]))\n",
        "        parents.append(num)\n",
        "        num += 1\n",
        "      maze.append(row)\n",
        "\n",
        "    while not all_equal(parents):\n",
        "      random_cell = random.choice(random.choice(maze))\n",
        "      random_neighbour = random.choice(find_neighbours(random_cell))\n",
        "\n",
        "      if find(random_cell.component) != find(random_neighbour.component):\n",
        "        union(random_cell, random_neighbour)\n",
        "        delete_walls(random_cell, random_neighbour)\n",
        "        used.append(random_cell)\n",
        "\n",
        "    # Открываем один вход и выход (сверху и снизу, соответственно)\n",
        "    maze[0][0].is_open = True\n",
        "    maze[0][0].walls[0] = False\n",
        "    maze[-1][-1].is_open = True\n",
        "    maze[-1][-1].walls[2] = False\n",
        "\n",
        "    return maze"
      ]
    },
    {
      "cell_type": "code",
      "execution_count": null,
      "id": "b3175704-175b-4b46-8d2e-6c7261008655",
      "metadata": {
        "id": "b3175704-175b-4b46-8d2e-6c7261008655"
      },
      "outputs": [],
      "source": [
        "maze = generate_maze(N)"
      ]
    },
    {
      "cell_type": "code",
      "execution_count": null,
      "id": "d8631fe0-4bef-46a8-a3f8-0efe01f9393a",
      "metadata": {
        "id": "d8631fe0-4bef-46a8-a3f8-0efe01f9393a"
      },
      "outputs": [],
      "source": [
        "def draw_maze(maze_):\n",
        "    for i in range(N):\n",
        "      for j in range(N):\n",
        "        cell = maze_[i][j]\n",
        "\n",
        "        if cell.walls[0]:\n",
        "          plt.plot([cell.x, cell.x + LINE_WIDTH], [N - cell.y, N - cell.y], 'k-', lw=2)\n",
        "        if cell.walls[1]:\n",
        "          plt.plot([cell.x + LINE_WIDTH, cell.x + LINE_WIDTH], [N - cell.y, N - cell.y - LINE_WIDTH], 'k-', lw=2)\n",
        "        if cell.walls[2]:\n",
        "          plt.plot([cell.x, cell.x + LINE_WIDTH], [N - cell.y - LINE_WIDTH, N - cell.y - LINE_WIDTH], 'k-', lw=2)\n",
        "        if cell.walls[3]:\n",
        "          plt.plot([cell.x, cell.x], [N - cell.y, N - cell.y - LINE_WIDTH], 'k-', lw=2)"
      ]
    },
    {
      "cell_type": "code",
      "execution_count": null,
      "id": "f5756126-381a-4d75-bd19-80f70e8a4e0a",
      "metadata": {
        "id": "f5756126-381a-4d75-bd19-80f70e8a4e0a",
        "outputId": "323dbb2a-9c6a-414e-aff7-dcfc711e7673",
        "colab": {
          "base_uri": "https://localhost:8080/",
          "height": 830
        }
      },
      "outputs": [
        {
          "output_type": "display_data",
          "data": {
            "text/plain": [
              "<Figure size 1000x1000 with 1 Axes>"
            ],
            "image/png": "[encoded data removed]"
          },
          "metadata": {}
        }
      ],
      "source": [
        "fig = plt.figure(figsize=(10, 10))\n",
        "\n",
        "draw_maze(maze)\n",
        "\n",
        "plt.show()"
      ]
    },
    {
      "cell_type": "code",
      "execution_count": null,
      "id": "8a16f1f6-32ca-40d5-bfe3-9bd797928d93",
      "metadata": {
        "id": "8a16f1f6-32ca-40d5-bfe3-9bd797928d93"
      },
      "outputs": [],
      "source": []
    }
  ],
  "metadata": {
    "kernelspec": {
      "display_name": "Python 3 (ipykernel)",
      "language": "python",
      "name": "python3"
    },
    "language_info": {
      "codemirror_mode": {
        "name": "ipython",
        "version": 3
      },
      "file_extension": ".py",
      "mimetype": "text/x-python",
      "name": "python",
      "nbconvert_exporter": "python",
      "pygments_lexer": "ipython3",
      "version": "3.11.8"
    },
    "colab": {
      "provenance": [],
      "toc_visible": true
    }
  },
  "nbformat": 4,
  "nbformat_minor": 5
}